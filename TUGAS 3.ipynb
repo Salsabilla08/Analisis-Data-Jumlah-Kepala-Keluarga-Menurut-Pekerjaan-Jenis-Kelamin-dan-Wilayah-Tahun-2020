{
 "cells": [
  {
   "cell_type": "code",
   "execution_count": 9,
   "id": "eec4c751",
   "metadata": {},
   "outputs": [
    {
     "name": "stdout",
     "output_type": "stream",
     "text": [
      "<class 'pandas.core.frame.DataFrame'>\n",
      "RangeIndex: 26433 entries, 0 to 26432\n",
      "Data columns (total 9 columns):\n",
      " #   Column          Non-Null Count  Dtype \n",
      "---  ------          --------------  ----- \n",
      " 0   tanggal         26414 non-null  object\n",
      " 1   id_kel          26433 non-null  int64 \n",
      " 2   nama_provinsi   26433 non-null  object\n",
      " 3   nama_kota       26433 non-null  object\n",
      " 4   nama_kecamatan  26433 non-null  object\n",
      " 5   nama_kelurahan  26433 non-null  object\n",
      " 6   kategori        26433 non-null  object\n",
      " 7   sub_kategori    26433 non-null  object\n",
      " 8   jumlah          26433 non-null  int64 \n",
      "dtypes: int64(2), object(7)\n",
      "memory usage: 1.8+ MB\n",
      "\n",
      "Panjang data : 26433\n",
      "Jumlah seluruh data : 237897\n"
     ]
    }
   ],
   "source": [
    "import pandas as pd\n",
    "\n",
    "df = pd.read_csv(\"rekap-data-bulanan-covid-19-bulan-januari-tahun-2021.csv\")\n",
    "df.info()\n",
    "print()\n",
    "print(\"Panjang data :\", len(df))\n",
    "print(\"Jumlah seluruh data :\", df.size)"
   ]
  },
  {
   "cell_type": "markdown",
   "id": "f9c79186",
   "metadata": {},
   "source": [
    "## "
   ]
  }
 ],
 "metadata": {
  "kernelspec": {
   "display_name": "Python 3 (ipykernel)",
   "language": "python",
   "name": "python3"
  },
  "language_info": {
   "codemirror_mode": {
    "name": "ipython",
    "version": 3
   },
   "file_extension": ".py",
   "mimetype": "text/x-python",
   "name": "python",
   "nbconvert_exporter": "python",
   "pygments_lexer": "ipython3",
   "version": "3.9.13"
  }
 },
 "nbformat": 4,
 "nbformat_minor": 5
}
